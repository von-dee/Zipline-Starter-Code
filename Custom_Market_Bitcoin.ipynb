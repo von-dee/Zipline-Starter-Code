{
 "cells": [
  {
   "cell_type": "code",
   "execution_count": 1,
   "metadata": {},
   "outputs": [],
   "source": [
    "%load_ext zipline"
   ]
  },
  {
   "cell_type": "code",
   "execution_count": 2,
   "metadata": {},
   "outputs": [
    {
     "name": "stdout",
     "output_type": "stream",
     "text": [
      "                                   low         high         open        close  \\\n",
      "date                                                                            \n",
      "2018-02-05 17:48:00+00:00  7170.000000  7171.000000  7170.000000  7170.990234   \n",
      "2018-02-05 17:49:00+00:00  7131.990234  7171.000000  7170.990234  7131.990234   \n",
      "2018-02-05 17:50:00+00:00  7120.000000  7137.359863  7132.000000  7120.020020   \n",
      "2018-02-05 17:51:00+00:00  7113.000000  7121.000000  7120.040039  7113.000000   \n",
      "2018-02-05 17:52:00+00:00  7113.000000  7122.000000  7113.000000  7121.990234   \n",
      "\n",
      "                              volume  \n",
      "date                                  \n",
      "2018-02-05 17:48:00+00:00   3.425961  \n",
      "2018-02-05 17:49:00+00:00   5.209975  \n",
      "2018-02-05 17:50:00+00:00  14.767619  \n",
      "2018-02-05 17:51:00+00:00  18.237879  \n",
      "2018-02-05 17:52:00+00:00  22.768671  \n",
      "<class 'pandas.core.panel.Panel'>\n",
      "Dimensions: 1 (items) x 72277 (major_axis) x 5 (minor_axis)\n",
      "Items axis: BTC to BTC\n",
      "Major_axis axis: 2018-02-05 17:48:00+00:00 to 2018-03-27 22:24:00+00:00\n",
      "Minor_axis axis: low to volume\n"
     ]
    },
    {
     "ename": "ValueError",
     "evalue": "20160 non-market minutes in minute_index_to_session_labels:\nFirst Bad Minute: 2018-02-10 00:00:00+00:00\nPrevious Session: 2018-02-09 00:00:00 -> 2018-02-09 23:59:00\nNext Session: 2018-02-12 00:00:00 -> 2018-02-12 23:59:00",
     "output_type": "error",
     "traceback": [
      "\u001b[1;31m---------------------------------------------------------------------------\u001b[0m",
      "\u001b[1;31mValueError\u001b[0m                                Traceback (most recent call last)",
      "\u001b[1;32m<ipython-input-2-ff1669ac69cd>\u001b[0m in \u001b[0;36m<module>\u001b[1;34m()\u001b[0m\n\u001b[0;32m     54\u001b[0m                       \u001b[0mhandle_data\u001b[0m\u001b[1;33m=\u001b[0m\u001b[0mhandle_data\u001b[0m\u001b[1;33m,\u001b[0m\u001b[1;33m\u001b[0m\u001b[0m\n\u001b[0;32m     55\u001b[0m                       \u001b[0mdata_frequency\u001b[0m \u001b[1;33m=\u001b[0m\u001b[1;34m'minute'\u001b[0m\u001b[1;33m,\u001b[0m\u001b[1;33m\u001b[0m\u001b[0m\n\u001b[1;32m---> 56\u001b[1;33m                       data=panel)\n\u001b[0m",
      "\u001b[1;32mC:\\Anaconda\\envs\\env_zipline\\lib\\site-packages\\zipline\\utils\\run_algo.py\u001b[0m in \u001b[0;36mrun_algorithm\u001b[1;34m(start, end, initialize, capital_base, handle_data, before_trading_start, analyze, data_frequency, data, bundle, bundle_timestamp, trading_calendar, metrics_set, default_extension, extensions, strict_extensions, environ, blotter)\u001b[0m\n\u001b[0;32m    428\u001b[0m         \u001b[0mlocal_namespace\u001b[0m\u001b[1;33m=\u001b[0m\u001b[1;32mFalse\u001b[0m\u001b[1;33m,\u001b[0m\u001b[1;33m\u001b[0m\u001b[0m\n\u001b[0;32m    429\u001b[0m         \u001b[0menviron\u001b[0m\u001b[1;33m=\u001b[0m\u001b[0menviron\u001b[0m\u001b[1;33m,\u001b[0m\u001b[1;33m\u001b[0m\u001b[0m\n\u001b[1;32m--> 430\u001b[1;33m         \u001b[0mblotter\u001b[0m\u001b[1;33m=\u001b[0m\u001b[0mblotter\u001b[0m\u001b[1;33m,\u001b[0m\u001b[1;33m\u001b[0m\u001b[0m\n\u001b[0m\u001b[0;32m    431\u001b[0m     )\n",
      "\u001b[1;32mC:\\Anaconda\\envs\\env_zipline\\lib\\site-packages\\zipline\\utils\\run_algo.py\u001b[0m in \u001b[0;36m_run\u001b[1;34m(handle_data, initialize, before_trading_start, analyze, algofile, algotext, defines, data_frequency, capital_base, data, bundle, bundle_timestamp, start, end, output, trading_calendar, print_algo, metrics_set, local_namespace, environ, blotter)\u001b[0m\n\u001b[0;32m    227\u001b[0m     \u001b[1;33m)\u001b[0m\u001b[1;33m.\u001b[0m\u001b[0mrun\u001b[0m\u001b[1;33m(\u001b[0m\u001b[1;33m\u001b[0m\u001b[0m\n\u001b[0;32m    228\u001b[0m         \u001b[0mdata\u001b[0m\u001b[1;33m,\u001b[0m\u001b[1;33m\u001b[0m\u001b[0m\n\u001b[1;32m--> 229\u001b[1;33m         \u001b[0moverwrite_sim_params\u001b[0m\u001b[1;33m=\u001b[0m\u001b[1;32mFalse\u001b[0m\u001b[1;33m,\u001b[0m\u001b[1;33m\u001b[0m\u001b[0m\n\u001b[0m\u001b[0;32m    230\u001b[0m     )\n\u001b[0;32m    231\u001b[0m \u001b[1;33m\u001b[0m\u001b[0m\n",
      "\u001b[1;32mC:\\Anaconda\\envs\\env_zipline\\lib\\site-packages\\zipline\\algorithm.py\u001b[0m in \u001b[0;36mrun\u001b[1;34m(self, data, overwrite_sim_params)\u001b[0m\n\u001b[0;32m    733\u001b[0m                             minute_panel_to_session_panel(\n\u001b[0;32m    734\u001b[0m                                 \u001b[0mcopy_panel\u001b[0m\u001b[1;33m,\u001b[0m\u001b[1;33m\u001b[0m\u001b[0m\n\u001b[1;32m--> 735\u001b[1;33m                                 \u001b[0mself\u001b[0m\u001b[1;33m.\u001b[0m\u001b[0mtrading_calendar\u001b[0m\u001b[1;33m,\u001b[0m\u001b[1;33m\u001b[0m\u001b[0m\n\u001b[0m\u001b[0;32m    736\u001b[0m                             ),\n\u001b[0;32m    737\u001b[0m                             \u001b[1;34m'daily'\u001b[0m\u001b[1;33m,\u001b[0m\u001b[1;33m\u001b[0m\u001b[0m\n",
      "\u001b[1;32mC:\\Anaconda\\envs\\env_zipline\\lib\\site-packages\\zipline\\data\\resample.py\u001b[0m in \u001b[0;36mminute_panel_to_session_panel\u001b[1;34m(minute_panel, calendar)\u001b[0m\n\u001b[0;32m    114\u001b[0m \u001b[1;33m\u001b[0m\u001b[0m\n\u001b[0;32m    115\u001b[0m     session_index = calendar.minute_index_to_session_labels(\n\u001b[1;32m--> 116\u001b[1;33m         \u001b[0mminute_panel\u001b[0m\u001b[1;33m.\u001b[0m\u001b[0mmajor_axis\u001b[0m\u001b[1;33m\u001b[0m\u001b[0m\n\u001b[0m\u001b[0;32m    117\u001b[0m     )\n\u001b[0;32m    118\u001b[0m     \u001b[1;32mreturn\u001b[0m \u001b[0mminute_panel\u001b[0m\u001b[1;33m.\u001b[0m\u001b[0mgroupby\u001b[0m\u001b[1;33m(\u001b[0m\u001b[0msession_index\u001b[0m\u001b[1;33m)\u001b[0m\u001b[1;33m.\u001b[0m\u001b[0magg\u001b[0m\u001b[1;33m(\u001b[0m\u001b[0maggregator\u001b[0m\u001b[1;33m)\u001b[0m\u001b[1;33m\u001b[0m\u001b[0m\n",
      "\u001b[1;32mC:\\Anaconda\\envs\\env_zipline\\lib\\site-packages\\trading_calendars\\trading_calendar.py\u001b[0m in \u001b[0;36mminute_index_to_session_labels\u001b[1;34m(self, index)\u001b[0m\n\u001b[0;32m    925\u001b[0m                     \u001b[0mfirst_bad\u001b[0m\u001b[1;33m=\u001b[0m\u001b[0mexample\u001b[0m\u001b[1;33m,\u001b[0m\u001b[1;33m\u001b[0m\u001b[0m\n\u001b[0;32m    926\u001b[0m                     \u001b[0mprev_open\u001b[0m\u001b[1;33m=\u001b[0m\u001b[0mprev_open\u001b[0m\u001b[1;33m,\u001b[0m \u001b[0mprev_close\u001b[0m\u001b[1;33m=\u001b[0m\u001b[0mprev_close\u001b[0m\u001b[1;33m,\u001b[0m\u001b[1;33m\u001b[0m\u001b[0m\n\u001b[1;32m--> 927\u001b[1;33m                     next_open=next_open, next_close=next_close)\n\u001b[0m\u001b[0;32m    928\u001b[0m             )\n\u001b[0;32m    929\u001b[0m \u001b[1;33m\u001b[0m\u001b[0m\n",
      "\u001b[1;31mValueError\u001b[0m: 20160 non-market minutes in minute_index_to_session_labels:\nFirst Bad Minute: 2018-02-10 00:00:00+00:00\nPrevious Session: 2018-02-09 00:00:00 -> 2018-02-09 23:59:00\nNext Session: 2018-02-12 00:00:00 -> 2018-02-12 23:59:00"
     ]
    }
   ],
   "source": [
    "import pandas as pd\n",
    "from collections import OrderedDict\n",
    "import pytz\n",
    "import zipline\n",
    "from zipline.api import order, record, symbol, set_benchmark, order_target_percent, get_open_orders\n",
    "# from zipline.utils.calendars.exchange_calendar_twentyfourhr import TwentyFourHR\n",
    "from exchange_calendar_twentyfourhr import TwentyFourHR\n",
    "import matplotlib.pyplot as plt\n",
    "from datetime import datetime\n",
    "\n",
    "\n",
    "def initialize(context):\n",
    "    set_benchmark(symbol(\"BTC\"))\n",
    "\n",
    "\n",
    "def handle_data(context, data):\n",
    "\n",
    "    slowma = data.history(symbol(\"BTC\"), fields='price', bar_count=50, frequency='1m').mean()\n",
    "    fastma = data.history(symbol(\"BTC\"), fields='price', bar_count=10, frequency='1m').mean()\n",
    "\n",
    "    if fastma < slowma:\n",
    "        if symbol(\"BTC\") not in get_open_orders():\n",
    "            order_target_percent(symbol(\"BTC\"), 0.04)\n",
    "\n",
    "    if fastma > slowma:\n",
    "        if symbol(\"BTC\") not in get_open_orders():\n",
    "            order_target_percent(symbol(\"BTC\"), 0.96)\n",
    "\n",
    "    record(BTC=data.current(symbol('BTC'), fields='price'))\n",
    "\n",
    "\n",
    "data = OrderedDict()\n",
    "data['BTC'] = pd.read_csv(r\"C:\\Users\\Sela#\\Documents\\Jupyter Projects\\Data\\BTC-USD.csv\")\n",
    "\n",
    "data['BTC']['date'] = pd.to_datetime(data['BTC']['time'], unit='s', utc=True)\n",
    "data['BTC'].set_index('date', inplace=True)\n",
    "data['BTC'].drop('time', axis=1, inplace=True)\n",
    "data['BTC'] = data['BTC'].resample(\"1min\").mean()\n",
    "data['BTC'].fillna(method=\"ffill\", inplace=True)\n",
    "data['BTC'] = data['BTC'][[\"low\",\"high\",\"open\",\"close\",\"volume\"]]\n",
    "print(data['BTC'].head())\n",
    "\n",
    "panel = pd.Panel(data)\n",
    "panel.minor_axis = [\"low\",\"high\",\"open\",\"close\",\"volume\"]\n",
    "panel.major_axis = panel.major_axis.tz_convert(pytz.utc)\n",
    "print(panel)\n",
    "\n",
    "\n",
    "perf = zipline.run_algorithm(start=datetime(2018, 2, 7, 0, 0, 0, 0, pytz.utc),\n",
    "                      end=datetime(2018, 3, 26, 0, 0, 0, 0, pytz.utc),\n",
    "                      initialize=initialize,\n",
    "                      trading_calendar=TwentyFourHR(),\n",
    "                      capital_base=10000,\n",
    "                      handle_data=handle_data,\n",
    "                      data_frequency ='minute',\n",
    "                      data=panel)"
   ]
  },
  {
   "cell_type": "code",
   "execution_count": null,
   "metadata": {},
   "outputs": [],
   "source": []
  }
 ],
 "metadata": {
  "kernelspec": {
   "display_name": "Python (zipline)",
   "language": "python",
   "name": "env_zipline"
  },
  "language_info": {
   "codemirror_mode": {
    "name": "ipython",
    "version": 3
   },
   "file_extension": ".py",
   "mimetype": "text/x-python",
   "name": "python",
   "nbconvert_exporter": "python",
   "pygments_lexer": "ipython3",
   "version": "3.5.6"
  }
 },
 "nbformat": 4,
 "nbformat_minor": 2
}
