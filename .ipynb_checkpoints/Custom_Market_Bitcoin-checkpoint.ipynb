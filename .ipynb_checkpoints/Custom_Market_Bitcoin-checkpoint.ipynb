{
 "cells": [
  {
   "cell_type": "code",
   "execution_count": 1,
   "metadata": {},
   "outputs": [],
   "source": [
    "%load_ext zipline"
   ]
  },
  {
   "cell_type": "code",
   "execution_count": 2,
   "metadata": {},
   "outputs": [
    {
     "name": "stdout",
     "output_type": "stream",
     "text": [
      "                                   low         high         open        close  \\\n",
      "date                                                                            \n",
      "2018-02-05 17:48:00+00:00  7170.000000  7171.000000  7170.000000  7170.990234   \n",
      "2018-02-05 17:49:00+00:00  7131.990234  7171.000000  7170.990234  7131.990234   \n",
      "2018-02-05 17:50:00+00:00  7120.000000  7137.359863  7132.000000  7120.020020   \n",
      "2018-02-05 17:51:00+00:00  7113.000000  7121.000000  7120.040039  7113.000000   \n",
      "2018-02-05 17:52:00+00:00  7113.000000  7122.000000  7113.000000  7121.990234   \n",
      "\n",
      "                              volume  \n",
      "date                                  \n",
      "2018-02-05 17:48:00+00:00   3.425961  \n",
      "2018-02-05 17:49:00+00:00   5.209975  \n",
      "2018-02-05 17:50:00+00:00  14.767619  \n",
      "2018-02-05 17:51:00+00:00  18.237879  \n",
      "2018-02-05 17:52:00+00:00  22.768671  \n",
      "<class 'pandas.core.panel.Panel'>\n",
      "Dimensions: 1 (items) x 72277 (major_axis) x 5 (minor_axis)\n",
      "Items axis: BTC to BTC\n",
      "Major_axis axis: 2018-02-05 17:48:00+00:00 to 2018-03-27 22:24:00+00:00\n",
      "Minor_axis axis: low to volume\n"
     ]
    },
    {
     "ename": "NameError",
     "evalue": "name 'TwentyFourHR' is not defined",
     "output_type": "error",
     "traceback": [
      "\u001b[1;31m---------------------------------------------------------------------------\u001b[0m",
      "\u001b[1;31mNameError\u001b[0m                                 Traceback (most recent call last)",
      "\u001b[1;32m<ipython-input-2-d85f30efecbe>\u001b[0m in \u001b[0;36m<module>\u001b[1;34m()\u001b[0m\n\u001b[0;32m     49\u001b[0m                       \u001b[0mend\u001b[0m\u001b[1;33m=\u001b[0m\u001b[0mdatetime\u001b[0m\u001b[1;33m(\u001b[0m\u001b[1;36m2018\u001b[0m\u001b[1;33m,\u001b[0m \u001b[1;36m3\u001b[0m\u001b[1;33m,\u001b[0m \u001b[1;36m26\u001b[0m\u001b[1;33m,\u001b[0m \u001b[1;36m0\u001b[0m\u001b[1;33m,\u001b[0m \u001b[1;36m0\u001b[0m\u001b[1;33m,\u001b[0m \u001b[1;36m0\u001b[0m\u001b[1;33m,\u001b[0m \u001b[1;36m0\u001b[0m\u001b[1;33m,\u001b[0m \u001b[0mpytz\u001b[0m\u001b[1;33m.\u001b[0m\u001b[0mutc\u001b[0m\u001b[1;33m)\u001b[0m\u001b[1;33m,\u001b[0m\u001b[1;33m\u001b[0m\u001b[0m\n\u001b[0;32m     50\u001b[0m                       \u001b[0minitialize\u001b[0m\u001b[1;33m=\u001b[0m\u001b[0minitialize\u001b[0m\u001b[1;33m,\u001b[0m\u001b[1;33m\u001b[0m\u001b[0m\n\u001b[1;32m---> 51\u001b[1;33m                       \u001b[0mtrading_calendar\u001b[0m\u001b[1;33m=\u001b[0m\u001b[0mTwentyFourHR\u001b[0m\u001b[1;33m(\u001b[0m\u001b[1;33m)\u001b[0m\u001b[1;33m,\u001b[0m\u001b[1;33m\u001b[0m\u001b[0m\n\u001b[0m\u001b[0;32m     52\u001b[0m                       \u001b[0mcapital_base\u001b[0m\u001b[1;33m=\u001b[0m\u001b[1;36m10000\u001b[0m\u001b[1;33m,\u001b[0m\u001b[1;33m\u001b[0m\u001b[0m\n\u001b[0;32m     53\u001b[0m                       \u001b[0mhandle_data\u001b[0m\u001b[1;33m=\u001b[0m\u001b[0mhandle_data\u001b[0m\u001b[1;33m,\u001b[0m\u001b[1;33m\u001b[0m\u001b[0m\n",
      "\u001b[1;31mNameError\u001b[0m: name 'TwentyFourHR' is not defined"
     ]
    }
   ],
   "source": [
    "import pandas as pd\n",
    "from collections import OrderedDict\n",
    "import pytz\n",
    "import zipline\n",
    "from zipline.api import order, record, symbol, set_benchmark, order_target_percent, get_open_orders\n",
    "# from zipline.utils.calendars.exchange_calendar_twentyfourhr import TwentyFourHR\n",
    "from exchange_calendar_twentyfourhr import TwentyFourHR\n",
    "import matplotlib.pyplot as plt\n",
    "from datetime import datetime\n",
    "\n",
    "\n",
    "def initialize(context):\n",
    "    set_benchmark(symbol(\"BTC\"))\n",
    "\n",
    "\n",
    "def handle_data(context, data):\n",
    "\n",
    "    slowma = data.history(symbol(\"BTC\"), fields='price', bar_count=50, frequency='1m').mean()\n",
    "    fastma = data.history(symbol(\"BTC\"), fields='price', bar_count=10, frequency='1m').mean()\n",
    "\n",
    "    if fastma < slowma:\n",
    "        if symbol(\"BTC\") not in get_open_orders():\n",
    "            order_target_percent(symbol(\"BTC\"), 0.04)\n",
    "\n",
    "    if fastma > slowma:\n",
    "        if symbol(\"BTC\") not in get_open_orders():\n",
    "            order_target_percent(symbol(\"BTC\"), 0.96)\n",
    "\n",
    "    record(BTC=data.current(symbol('BTC'), fields='price'))\n",
    "\n",
    "\n",
    "data = OrderedDict()\n",
    "data['BTC'] = pd.read_csv(r\"C:\\Users\\Sela#\\Documents\\Jupyter Projects\\Data\\BTC-USD.csv\")\n",
    "\n",
    "data['BTC']['date'] = pd.to_datetime(data['BTC']['time'], unit='s', utc=True)\n",
    "data['BTC'].set_index('date', inplace=True)\n",
    "data['BTC'].drop('time', axis=1, inplace=True)\n",
    "data['BTC'] = data['BTC'].resample(\"1min\").mean()\n",
    "data['BTC'].fillna(method=\"ffill\", inplace=True)\n",
    "data['BTC'] = data['BTC'][[\"low\",\"high\",\"open\",\"close\",\"volume\"]]\n",
    "print(data['BTC'].head())\n",
    "\n",
    "panel = pd.Panel(data)\n",
    "panel.minor_axis = [\"low\",\"high\",\"open\",\"close\",\"volume\"]\n",
    "panel.major_axis = panel.major_axis.tz_convert(pytz.utc)\n",
    "print(panel)\n",
    "\n",
    "\n",
    "perf = zipline.run_algorithm(start=datetime(2018, 2, 7, 0, 0, 0, 0, pytz.utc),\n",
    "                      end=datetime(2018, 3, 26, 0, 0, 0, 0, pytz.utc),\n",
    "                      initialize=initialize,\n",
    "                      trading_calendar=TwentyFourHR(),\n",
    "                      capital_base=10000,\n",
    "                      handle_data=handle_data,\n",
    "                      data_frequency ='minute',\n",
    "                      data=panel)"
   ]
  },
  {
   "cell_type": "code",
   "execution_count": null,
   "metadata": {},
   "outputs": [],
   "source": []
  }
 ],
 "metadata": {
  "kernelspec": {
   "display_name": "Python (zipline)",
   "language": "python",
   "name": "env_zipline"
  },
  "language_info": {
   "codemirror_mode": {
    "name": "ipython",
    "version": 3
   },
   "file_extension": ".py",
   "mimetype": "text/x-python",
   "name": "python",
   "nbconvert_exporter": "python",
   "pygments_lexer": "ipython3",
   "version": "3.5.6"
  }
 },
 "nbformat": 4,
 "nbformat_minor": 2
}
